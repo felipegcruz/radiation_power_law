{
 "cells": [
  {
   "cell_type": "markdown",
   "metadata": {},
   "source": [
    "# Radiation Power Law"
   ]
  },
  {
   "cell_type": "code",
   "execution_count": 12,
   "metadata": {},
   "outputs": [],
   "source": [
    "import math\n",
    "import matplotlib.pyplot as plt"
   ]
  },
  {
   "cell_type": "markdown",
   "metadata": {},
   "source": [
    "#### Stefan Boltzmann Law"
   ]
  },
  {
   "cell_type": "code",
   "execution_count": 13,
   "metadata": {},
   "outputs": [],
   "source": [
    "import math\n",
    "import matplotlib.pyplot as plt\n",
    "\n",
    "def stefan_boltzmann_law(temperature):\n",
    "    \"\"\"Calculate the total radiation power using Stefan-Boltzmann law.\"\"\"\n",
    "    sigma = 5.67e-8  # Stefan-Boltzmann constant in W/m^2K^4\n",
    "    return sigma * temperature ** 4\n",
    "\n",
    "def wiens_displacement_law(temperature):\n",
    "    \"\"\"Calculate the wavelength of maximum emission using Wien's displacement law.\"\"\"\n",
    "    b = 2.8977685e-3  # Wien's displacement constant in m*K\n",
    "    return b / temperature\n",
    "\n",
    "def main():\n",
    "    print(\"Radiation Power Laws Calculator\")\n",
    "    print(\"--------------------------------\")\n",
    "    \n",
    "    try:\n",
    "        while True:\n",
    "            temperature = float(input(\"Enter the temperature in Kelvin (between 1 and 5): \"))\n",
    "            \n",
    "            if 1 <= temperature <= 5:\n",
    "                break\n",
    "            else:\n",
    "                print(\"Temperature must be between 1 and 5 Kelvin.\")\n",
    "        \n",
    "        total_power = stefan_boltzmann_law(temperature)\n",
    "        wavelength_max = wiens_displacement_law(temperature)\n",
    "        \n",
    "        print(f\"Total radiation power: {total_power:.2e} W/m^2\")\n",
    "        print(f\"Wavelength of maximum emission: {wavelength_max:.2e} meters\")\n",
    "        \n",
    "        # Create a graph\n",
    "        temperatures = list(range(1, 6))\n",
    "        powers = [stefan_boltzmann_law(temp) for temp in temperatures]\n",
    "        wavelengths = [wiens_displacement_law(temp) for temp in temperatures]\n",
    "        \n",
    "        plt.figure(figsize=(10, 5))\n",
    "        plt.subplot(1, 2, 1)\n",
    "        plt.plot(temperatures, powers, marker='o')\n",
    "        plt.title(\"Total Radiation Power\")\n",
    "        plt.xlabel(\"Temperature (K)\")\n",
    "        plt.ylabel(\"Power (W/m^2)\")\n",
    "        \n",
    "        plt.subplot(1, 2, 2)\n",
    "        plt.plot(temperatures, wavelengths, marker='o', color='r')\n",
    "        plt.title(\"Wavelength of Maximum Emission\")\n",
    "        plt.xlabel(\"Temperature (K)\")\n",
    "        plt.ylabel(\"Wavelength (m)\")\n",
    "        \n",
    "        plt.tight_layout()\n",
    "        plt.show()\n",
    "        \n",
    "    except ValueError as e:\n",
    "        print(f\"Error: {e}\")\n",
    "\n",
    "if __name__ == \"__main__\":\n",
    "    main()\n"
   ]
  }
 ],
 "metadata": {
  "kernelspec": {
   "display_name": "Python 3",
   "language": "python",
   "name": "python3"
  },
  "language_info": {
   "codemirror_mode": {
    "name": "ipython",
    "version": 3
   },
   "file_extension": ".py",
   "mimetype": "text/x-python",
   "name": "python",
   "nbconvert_exporter": "python",
   "pygments_lexer": "ipython3",
   "version": "3.10.12"
  },
  "orig_nbformat": 4
 },
 "nbformat": 4,
 "nbformat_minor": 2
}
